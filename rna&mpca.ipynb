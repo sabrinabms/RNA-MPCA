{
  "nbformat": 4,
  "nbformat_minor": 0,
  "metadata": {
    "colab": {
      "name": "rna&mpca.ipynb",
      "provenance": [],
      "mount_file_id": "1-RiaEbKycVrbIoCvyUcJCaW6nYKbxytm",
      "authorship_tag": "ABX9TyN9En37uJlPbk20iSN4r5YX",
      "include_colab_link": true
    },
    "kernelspec": {
      "name": "python3",
      "display_name": "Python 3"
    },
    "language_info": {
      "name": "python"
    }
  },
  "cells": [
    {
      "cell_type": "markdown",
      "metadata": {
        "id": "view-in-github",
        "colab_type": "text"
      },
      "source": [
        "<a href=\"https://colab.research.google.com/github/sabrinabms/RNA-MPCA/blob/main/rna%26mpca.ipynb\" target=\"_parent\"><img src=\"https://colab.research.google.com/assets/colab-badge.svg\" alt=\"Open In Colab\"/></a>"
      ]
    },
    {
      "cell_type": "code",
      "metadata": {
        "colab": {
          "base_uri": "https://localhost:8080/"
        },
        "id": "A6WnC_5r1vez",
        "outputId": "1868fbf9-18b6-4c61-b1bd-63fddf62cea1"
      },
      "source": [
        "%cd /content/drive/MyDrive/MPCA&RNA"
      ],
      "execution_count": 2,
      "outputs": [
        {
          "output_type": "stream",
          "text": [
            "/content/drive/MyDrive/MPCA&RNA\n"
          ],
          "name": "stdout"
        }
      ]
    },
    {
      "cell_type": "code",
      "metadata": {
        "colab": {
          "base_uri": "https://localhost:8080/"
        },
        "id": "qVQDpi072s9M",
        "outputId": "f33ff987-c8df-46af-8377-e368aa01af58"
      },
      "source": [
        "!make clean"
      ],
      "execution_count": 14,
      "outputs": [
        {
          "output_type": "stream",
          "text": [
            "rm -f build/*.o *.mod\n",
            "rm -rf *.*~ Makefile~ build/*.o *.mod annActivation annTest annMPCA\n"
          ],
          "name": "stdout"
        }
      ]
    },
    {
      "cell_type": "code",
      "metadata": {
        "colab": {
          "base_uri": "https://localhost:8080/"
        },
        "id": "Zv36JV3I26cx",
        "outputId": "cafe65ed-49ea-4d80-e49d-0b1000ccf248"
      },
      "source": [
        "!./runMPCA 4 4"
      ],
      "execution_count": 21,
      "outputs": [
        {
          "output_type": "stream",
          "text": [
            "make: Nothing to be done for 'all'.\n",
            "\u001b[H\u001b[2J\u001b[0;1m************************************************************\u001b[m\n",
            "\n",
            "\u001b[0;1m                       \u001b[0mExperiment   1\u001b[0;1m                       \u001b[m\n",
            "\n",
            "\u001b[0;1m************************************************************\u001b[m\n",
            "\n",
            "NFE (in processor 0):         250 of        250  \n",
            " (a) Processador com a melhor particula:                    0\n",
            "  Melhor particula:   0.24305970036855198     \n",
            "  \n",
            "  \n",
            " (b) Processador com a melhor particula:                    3\n",
            "  Melhor particula:   0.24305634015533553     \n",
            "  \n",
            "  \n",
            " (a) Processador com a melhor particula:                    3\n",
            "  Melhor particula:   0.24305634015533553     \n",
            "  \n",
            "  \n",
            " (b) Processador com a melhor particula:                    3\n",
            "  Melhor particula:   0.24305634015533553     \n",
            "  \n",
            "  \n",
            " (c) Processador com a melhor particula:                    3\n",
            "  \n",
            "NFE (total):                 1000 of       1000\n",
            "\u001b[0;1mBest objective function value: \u001b[0m2.4306 x (10^ -1)\u001b[m\n",
            "\u001b[0;1mNumber of hidden layers: \u001b[0m 2\u001b[m\n",
            "\u001b[0;1mNeurons in hidden layer 1: \u001b[0m 6\u001b[m\n",
            "\u001b[0;1mNeurons in hidden layer 2: \u001b[0m 9\u001b[m\n",
            "\u001b[0;1mActivation function: \u001b[0m 3\u001b[m\n",
            "\u001b[0;1mAlpha: \u001b[0m0.3659\u001b[m\n",
            "\u001b[0;1mEta: \u001b[0m0.5775\u001b[m\n",
            "\u001b[0;1;4m                                                            \u001b[m\n",
            "\u001b[0m                                                            \u001b[0m\u001b[m\n",
            "\u001b[0;1m************************************************************\u001b[m\n",
            "\n",
            "\u001b[0;1m                       \u001b[0mExperiment   2\u001b[0;1m                       \u001b[m\n",
            "\n",
            "\u001b[0;1m************************************************************\u001b[m\n",
            "\n",
            "NFE (in processor 0):         250 of        250  \n",
            " (a) Processador com a melhor particula:                    0\n",
            "  Melhor particula:   0.24912345758808618     \n",
            "  \n",
            "  \n",
            " (b) Processador com a melhor particula:                    1\n",
            "  Melhor particula:   0.24892735771342789     \n",
            "  \n",
            "  \n",
            " (a) Processador com a melhor particula:                    1\n",
            "  Melhor particula:   0.24892735771342789     \n",
            "  \n",
            "  \n",
            " (b) Processador com a melhor particula:                    1\n",
            "  Melhor particula:   0.24892735771342789     \n",
            "  \n",
            "  \n",
            " (c) Processador com a melhor particula:                    1\n",
            "  \n",
            "NFE (total):                 1000 of       1000\n",
            "\u001b[0;1mBest objective function value: \u001b[0m2.4893 x (10^ -1)\u001b[m\n",
            "\u001b[0;1mNumber of hidden layers: \u001b[0m 2\u001b[m\n",
            "\u001b[0;1mNeurons in hidden layer 1: \u001b[0m11\u001b[m\n",
            "\u001b[0;1mNeurons in hidden layer 2: \u001b[0m31\u001b[m\n",
            "\u001b[0;1mActivation function: \u001b[0m 2\u001b[m\n",
            "\u001b[0;1mAlpha: \u001b[0m0.6168\u001b[m\n",
            "\u001b[0;1mEta: \u001b[0m0.8924\u001b[m\n",
            "\u001b[0;1;4m                                                            \u001b[m\n",
            "\u001b[0m                                                            \u001b[0m\u001b[m\n",
            "\u001b[0;1m************************************************************\u001b[m\n",
            "\n",
            "\u001b[0;1m                       \u001b[0mExperiment   3\u001b[0;1m                       \u001b[m\n",
            "\n",
            "\u001b[0;1m************************************************************\u001b[m\n",
            "\n",
            "NFE (in processor 0):         250 of        250  \n",
            " (a) Processador com a melhor particula:                    0\n",
            "  Melhor particula:   0.25121777447505417     \n",
            "  \n",
            "  \n",
            " (b) Processador com a melhor particula:                    1\n",
            "  Melhor particula:   0.24500900350161905     \n",
            "  \n",
            "  \n",
            " (a) Processador com a melhor particula:                    1\n",
            "  Melhor particula:   0.24500900350161905     \n",
            "  \n",
            "  \n",
            " (b) Processador com a melhor particula:                    1\n",
            "  Melhor particula:   0.24500900350161905     \n",
            "  \n",
            "  \n",
            " (c) Processador com a melhor particula:                    1\n",
            "  \n",
            "NFE (total):                 1000 of       1000\n",
            "\u001b[0;1mBest objective function value: \u001b[0m2.4501 x (10^ -1)\u001b[m\n",
            "\u001b[0;1mNumber of hidden layers: \u001b[0m 2\u001b[m\n",
            "\u001b[0;1mNeurons in hidden layer 1: \u001b[0m 6\u001b[m\n",
            "\u001b[0;1mNeurons in hidden layer 2: \u001b[0m30\u001b[m\n",
            "\u001b[0;1mActivation function: \u001b[0m 3\u001b[m\n",
            "\u001b[0;1mAlpha: \u001b[0m0.7683\u001b[m\n",
            "\u001b[0;1mEta: \u001b[0m0.3122\u001b[m\n",
            "\u001b[0;1;4m                                                            \u001b[m\n",
            "\u001b[0m                                                            \u001b[0m\u001b[m\n",
            "\u001b[0;1m************************************************************\u001b[m\n",
            "\n",
            "\u001b[0;1m                       \u001b[0mExperiment   4\u001b[0;1m                       \u001b[m\n",
            "\n",
            "\u001b[0;1m************************************************************\u001b[m\n",
            "\n",
            "NFE (in processor 0):         250 of        250  \n",
            " (a) Processador com a melhor particula:                    0\n",
            "  Melhor particula:   0.26070304614961848     \n",
            "  \n",
            "  \n",
            " (b) Processador com a melhor particula:                    3\n",
            "  Melhor particula:   0.24163732783487671     \n",
            "  \n",
            "  \n",
            " (a) Processador com a melhor particula:                    3\n",
            "  Melhor particula:   0.24163732783487671     \n",
            "  \n",
            "  \n",
            " (b) Processador com a melhor particula:                    3\n",
            "  Melhor particula:   0.24163732783487671     \n",
            "  \n",
            "  \n",
            " (c) Processador com a melhor particula:                    3\n",
            "  \n",
            "NFE (total):                 1000 of       1000\n",
            "\u001b[0;1mBest objective function value: \u001b[0m2.4164 x (10^ -1)\u001b[m\n",
            "\u001b[0;1mNumber of hidden layers: \u001b[0m 1\u001b[m\n",
            "\u001b[0;1mNeurons in hidden layer 1: \u001b[0m 7\u001b[m\n",
            "\u001b[0;1mActivation function: \u001b[0m 2\u001b[m\n",
            "\u001b[0;1mAlpha: \u001b[0m0.2421\u001b[m\n",
            "\u001b[0;1mEta: \u001b[0m0.2902\u001b[m\n",
            "\u001b[0;1;4m                                                            \u001b[m\n",
            "\u001b[0m                                                            \u001b[0m\u001b[m\n"
          ],
          "name": "stdout"
        }
      ]
    },
    {
      "cell_type": "code",
      "metadata": {
        "colab": {
          "base_uri": "https://localhost:8080/"
        },
        "id": "VjsCRmBjOeoL",
        "outputId": "120bfaad-67b8-4a3f-df50-228938a65c1f"
      },
      "source": [
        "!./annTest 4 4"
      ],
      "execution_count": 22,
      "outputs": [
        {
          "output_type": "stream",
          "text": [
            " nExperiments           4\n",
            " nProcessors           4\n",
            " MELHOR RESULTADO:\n",
            " Função objetivo MPCA:  0.24163730000000000     \n",
            " Numero camadas           2\n",
            " N.Neuronios C.1:           7\n",
            " Funcao de ativacao           3\n",
            " MELHOR RESULTADO: ./output/ann4.best\n",
            " Activating ANN\n",
            " Passou por aqui - result_ys.out\n"
          ],
          "name": "stdout"
        }
      ]
    },
    {
      "cell_type": "code",
      "metadata": {
        "colab": {
          "base_uri": "https://localhost:8080/"
        },
        "id": "QMBqLjImOixN",
        "outputId": "2cf77e53-ff72-4ead-b6dd-2932bb4fe892"
      },
      "source": [
        "!./annActivation"
      ],
      "execution_count": 23,
      "outputs": [
        {
          "output_type": "stream",
          "text": [
            " ENTROU NA ATIVACAO DA RNA\n",
            " N. Classes          50\n",
            " N. Entradas           7\n",
            " N. Saidas          40\n"
          ],
          "name": "stdout"
        }
      ]
    }
  ]
}